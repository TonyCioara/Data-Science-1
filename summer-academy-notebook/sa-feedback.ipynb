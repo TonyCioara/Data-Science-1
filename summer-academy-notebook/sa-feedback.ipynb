{
 "cells": [
  {
   "cell_type": "markdown",
   "metadata": {},
   "source": [
    "# In this notebook we are going to analyze data from the Make School Summer Academy\n",
    "\n",
    "## We are going to try to find out what is the NPS (Net promoter score) of the summer academy.\n",
    "## For that we need to check how likely someone is to recommand the Summer Academy to a friend.\n",
    "#### For people with a score of 1-6, we can consider them detractors.\n",
    "#### For people with a score of 6-8, we can consider them passive.\n",
    "#### And for people with a score of 8-10, we can consider them promoters.\n",
    "#### By averaging all of those out we can find the NPS.\n",
    "\n",
    "### Let's start by importing what we need"
   ]
  },
  {
   "cell_type": "code",
   "execution_count": 1,
   "metadata": {},
   "outputs": [],
   "source": [
    "import pandas as pd\n",
    "import numpy as np\n",
    "import seaborn as sns\n",
    "import matplotlib.pyplot as plt\n",
    "import glob\n",
    "%matplotlib inline"
   ]
  },
  {
   "cell_type": "markdown",
   "metadata": {},
   "source": [
    "## We are going to work with two datasets: 2016 and 2017\n",
    "\n",
    "### Since the one from 2017 is cleaner we will get started by importing that one"
   ]
  },
  {
   "cell_type": "code",
   "execution_count": 2,
   "metadata": {
    "scrolled": false
   },
   "outputs": [
    {
     "data": {
      "text/html": [
       "<div>\n",
       "<style scoped>\n",
       "    .dataframe tbody tr th:only-of-type {\n",
       "        vertical-align: middle;\n",
       "    }\n",
       "\n",
       "    .dataframe tbody tr th {\n",
       "        vertical-align: top;\n",
       "    }\n",
       "\n",
       "    .dataframe thead th {\n",
       "        text-align: right;\n",
       "    }\n",
       "</style>\n",
       "<table border=\"1\" class=\"dataframe\">\n",
       "  <thead>\n",
       "    <tr style=\"text-align: right;\">\n",
       "      <th></th>\n",
       "      <th>ID</th>\n",
       "      <th>Location</th>\n",
       "      <th>Track</th>\n",
       "      <th>Week</th>\n",
       "      <th>Rating (Num)</th>\n",
       "      <th>Schedule Pacing</th>\n",
       "    </tr>\n",
       "  </thead>\n",
       "  <tbody>\n",
       "    <tr>\n",
       "      <th>0</th>\n",
       "      <td>134</td>\n",
       "      <td>San Francisco</td>\n",
       "      <td>Apps, Explorer</td>\n",
       "      <td>Week 1</td>\n",
       "      <td>3</td>\n",
       "      <td>Just right</td>\n",
       "    </tr>\n",
       "    <tr>\n",
       "      <th>1</th>\n",
       "      <td>36</td>\n",
       "      <td>Los Angeles</td>\n",
       "      <td>Apps</td>\n",
       "      <td>Week 1</td>\n",
       "      <td>4</td>\n",
       "      <td>A little too fast</td>\n",
       "    </tr>\n",
       "    <tr>\n",
       "      <th>2</th>\n",
       "      <td>117</td>\n",
       "      <td>San Francisco</td>\n",
       "      <td>Games</td>\n",
       "      <td>Week 1</td>\n",
       "      <td>4</td>\n",
       "      <td>Way too slow</td>\n",
       "    </tr>\n",
       "    <tr>\n",
       "      <th>3</th>\n",
       "      <td>253</td>\n",
       "      <td>NaN</td>\n",
       "      <td>NaN</td>\n",
       "      <td>Week 2</td>\n",
       "      <td>4</td>\n",
       "      <td>A little too fast</td>\n",
       "    </tr>\n",
       "    <tr>\n",
       "      <th>4</th>\n",
       "      <td>350</td>\n",
       "      <td>New York City</td>\n",
       "      <td>Apps, Explorer</td>\n",
       "      <td>Week 1</td>\n",
       "      <td>4</td>\n",
       "      <td>Just right</td>\n",
       "    </tr>\n",
       "  </tbody>\n",
       "</table>\n",
       "</div>"
      ],
      "text/plain": [
       "    ID       Location           Track    Week Rating (Num)    Schedule Pacing\n",
       "0  134  San Francisco  Apps, Explorer  Week 1            3         Just right\n",
       "1   36    Los Angeles            Apps  Week 1            4  A little too fast\n",
       "2  117  San Francisco           Games  Week 1            4       Way too slow\n",
       "3  253            NaN             NaN  Week 2            4  A little too fast\n",
       "4  350  New York City  Apps, Explorer  Week 1            4         Just right"
      ]
     },
     "execution_count": 2,
     "metadata": {},
     "output_type": "execute_result"
    }
   ],
   "source": [
    "df_2017 = pd.read_csv('./2017/Student Feedback Surveys-Superview.csv')\n",
    "df_2017.head()"
   ]
  },
  {
   "cell_type": "markdown",
   "metadata": {},
   "source": [
    "### The column we care about is the rating so let's check if anything about it is out of the ordinary"
   ]
  },
  {
   "cell_type": "code",
   "execution_count": 16,
   "metadata": {
    "scrolled": true
   },
   "outputs": [
    {
     "data": {
      "text/plain": [
       "array(['3', '4', '5', '6', '7', '8', '9', '10', '0', '1', '2', '#ERROR!'],\n",
       "      dtype=object)"
      ]
     },
     "execution_count": 16,
     "metadata": {},
     "output_type": "execute_result"
    }
   ],
   "source": [
    "df_2017['Rating (Num)'].unique()"
   ]
  },
  {
   "cell_type": "markdown",
   "metadata": {},
   "source": [
    "### Two things stand out to me:\n",
    "#### 1. Some of the values in the dataset are '#ERROR!'. We should make sure to get rid of those values.\n",
    "#### 2. Our numbers are stored as String types and we should convert them to Int in order to work with them."
   ]
  },
  {
   "cell_type": "code",
   "execution_count": 3,
   "metadata": {},
   "outputs": [
    {
     "name": "stderr",
     "output_type": "stream",
     "text": [
      "/anaconda3/lib/python3.6/site-packages/ipykernel_launcher.py:2: SettingWithCopyWarning: \n",
      "A value is trying to be set on a copy of a slice from a DataFrame.\n",
      "Try using .loc[row_indexer,col_indexer] = value instead\n",
      "\n",
      "See the caveats in the documentation: http://pandas.pydata.org/pandas-docs/stable/indexing.html#indexing-view-versus-copy\n",
      "  \n"
     ]
    },
    {
     "data": {
      "text/plain": [
       "8.415172413793103"
      ]
     },
     "execution_count": 3,
     "metadata": {},
     "output_type": "execute_result"
    }
   ],
   "source": [
    "df_2017_curated = df_2017[df_2017['Rating (Num)'] != '#ERROR!']\n",
    "df_2017_curated['Rating (Num)'] = df_2017_curated['Rating (Num)'].astype(int)\n",
    "df_2017_curated['Rating (Num)'].mean()"
   ]
  },
  {
   "cell_type": "markdown",
   "metadata": {},
   "source": [
    "### We should create a function that helps us if someone is a promoter, passive, or a detractor"
   ]
  },
  {
   "cell_type": "code",
   "execution_count": 4,
   "metadata": {},
   "outputs": [],
   "source": [
    "def calculate_promo_score(data):\n",
    "    if data <= 6:\n",
    "        return -1\n",
    "    if data <= 8:\n",
    "        return 0\n",
    "    return 1"
   ]
  },
  {
   "cell_type": "markdown",
   "metadata": {},
   "source": [
    "### Now let's use that function to create a new column for the promo score"
   ]
  },
  {
   "cell_type": "code",
   "execution_count": 5,
   "metadata": {},
   "outputs": [
    {
     "name": "stderr",
     "output_type": "stream",
     "text": [
      "/anaconda3/lib/python3.6/site-packages/ipykernel_launcher.py:1: SettingWithCopyWarning: \n",
      "A value is trying to be set on a copy of a slice from a DataFrame.\n",
      "Try using .loc[row_indexer,col_indexer] = value instead\n",
      "\n",
      "See the caveats in the documentation: http://pandas.pydata.org/pandas-docs/stable/indexing.html#indexing-view-versus-copy\n",
      "  \"\"\"Entry point for launching an IPython kernel.\n"
     ]
    }
   ],
   "source": [
    "df_2017_curated['promoter_score'] = df_2017_curated['Rating (Num)'].apply(calculate_promo_score)"
   ]
  },
  {
   "cell_type": "markdown",
   "metadata": {},
   "source": [
    "### Great! Now let's see what the NPS was for all 2017 summer academies"
   ]
  },
  {
   "cell_type": "code",
   "execution_count": 6,
   "metadata": {},
   "outputs": [
    {
     "data": {
      "text/plain": [
       "0.4406896551724138"
      ]
     },
     "execution_count": 6,
     "metadata": {},
     "output_type": "execute_result"
    }
   ],
   "source": [
    "df_2017_curated['promoter_score'].sum() / len(df_2017_curated)"
   ]
  },
  {
   "cell_type": "markdown",
   "metadata": {},
   "source": [
    "### 0.44 is not bad, but that's for all the summer academies. I'm sure some have been more successful than others. Let's create a sweet visualization and see how different cities have done"
   ]
  },
  {
   "cell_type": "code",
   "execution_count": null,
   "metadata": {},
   "outputs": [],
   "source": []
  },
  {
   "cell_type": "markdown",
   "metadata": {},
   "source": [
    "## Now that we saw how the 2017 summer academy has done let's deal with the more messy dataset of the 2016 summer academy\n",
    "\n",
    "### Let's start by importing all the weekly feedbacks except for Week 8 since that one is in a quite different format"
   ]
  },
  {
   "cell_type": "code",
   "execution_count": 11,
   "metadata": {
    "scrolled": true
   },
   "outputs": [
    {
     "name": "stderr",
     "output_type": "stream",
     "text": [
      "/anaconda3/lib/python3.6/site-packages/ipykernel_launcher.py:8: FutureWarning: Sorting because non-concatenation axis is not aligned. A future version\n",
      "of pandas will change to not sort by default.\n",
      "\n",
      "To accept the future behavior, pass 'sort=True'.\n",
      "\n",
      "To retain the current behavior and silence the warning, pass sort=False\n",
      "\n",
      "  \n"
     ]
    },
    {
     "data": {
      "text/html": [
       "<div>\n",
       "<style scoped>\n",
       "    .dataframe tbody tr th:only-of-type {\n",
       "        vertical-align: middle;\n",
       "    }\n",
       "\n",
       "    .dataframe tbody tr th {\n",
       "        vertical-align: top;\n",
       "    }\n",
       "\n",
       "    .dataframe thead th {\n",
       "        text-align: right;\n",
       "    }\n",
       "</style>\n",
       "<table border=\"1\" class=\"dataframe\">\n",
       "  <thead>\n",
       "    <tr style=\"text-align: right;\">\n",
       "      <th></th>\n",
       "      <th>How well are the tutorials paced?</th>\n",
       "      <th>How well is the schedule paced?</th>\n",
       "      <th>How would you rate your overall satisfaction with the Summer Academy this week?</th>\n",
       "      <th>Timestamp</th>\n",
       "      <th>Unnamed: 0</th>\n",
       "      <th>What track are you in?</th>\n",
       "    </tr>\n",
       "  </thead>\n",
       "  <tbody>\n",
       "    <tr>\n",
       "      <th>0</th>\n",
       "      <td>NaN</td>\n",
       "      <td>3</td>\n",
       "      <td>3</td>\n",
       "      <td>8/5/2016 1:39:41</td>\n",
       "      <td>NaN</td>\n",
       "      <td>NaN</td>\n",
       "    </tr>\n",
       "    <tr>\n",
       "      <th>1</th>\n",
       "      <td>NaN</td>\n",
       "      <td>3</td>\n",
       "      <td>4</td>\n",
       "      <td>8/5/2016 1:40:47</td>\n",
       "      <td>NaN</td>\n",
       "      <td>NaN</td>\n",
       "    </tr>\n",
       "    <tr>\n",
       "      <th>2</th>\n",
       "      <td>NaN</td>\n",
       "      <td>3</td>\n",
       "      <td>4</td>\n",
       "      <td>8/5/2016 1:40:50</td>\n",
       "      <td>NaN</td>\n",
       "      <td>NaN</td>\n",
       "    </tr>\n",
       "    <tr>\n",
       "      <th>3</th>\n",
       "      <td>NaN</td>\n",
       "      <td>4</td>\n",
       "      <td>4</td>\n",
       "      <td>8/5/2016 1:42:44</td>\n",
       "      <td>NaN</td>\n",
       "      <td>NaN</td>\n",
       "    </tr>\n",
       "    <tr>\n",
       "      <th>4</th>\n",
       "      <td>NaN</td>\n",
       "      <td>4</td>\n",
       "      <td>5</td>\n",
       "      <td>8/5/2016 1:45:13</td>\n",
       "      <td>NaN</td>\n",
       "      <td>NaN</td>\n",
       "    </tr>\n",
       "  </tbody>\n",
       "</table>\n",
       "</div>"
      ],
      "text/plain": [
       "   How well are the tutorials paced? How well is the schedule paced?  \\\n",
       "0                                NaN                               3   \n",
       "1                                NaN                               3   \n",
       "2                                NaN                               3   \n",
       "3                                NaN                               4   \n",
       "4                                NaN                               4   \n",
       "\n",
       "  How would you rate your overall satisfaction with the Summer Academy this week?  \\\n",
       "0                                                  3                                \n",
       "1                                                  4                                \n",
       "2                                                  4                                \n",
       "3                                                  4                                \n",
       "4                                                  5                                \n",
       "\n",
       "          Timestamp Unnamed: 0 What track are you in?  \n",
       "0  8/5/2016 1:39:41        NaN                    NaN  \n",
       "1  8/5/2016 1:40:47        NaN                    NaN  \n",
       "2  8/5/2016 1:40:50        NaN                    NaN  \n",
       "3  8/5/2016 1:42:44        NaN                    NaN  \n",
       "4  8/5/2016 1:45:13        NaN                    NaN  "
      ]
     },
     "execution_count": 11,
     "metadata": {},
     "output_type": "execute_result"
    }
   ],
   "source": [
    "path = r'./2016'\n",
    "allFiles = glob.glob(path + \"/*.csv\")\n",
    "df_2016_weeks1_6 = pd.DataFrame()\n",
    "list_ = []\n",
    "for file_ in allFiles:\n",
    "    df = pd.read_csv(file_,index_col=None, header=0)\n",
    "    list_.append(df)\n",
    "df_2016_weeks1_6 = pd.concat(list_)\n",
    "df_2016_weeks1_6.head()"
   ]
  },
  {
   "cell_type": "markdown",
   "metadata": {},
   "source": [
    "### It looks like while this data set could be useful it doesn't have what we're looking for, which is how likely someone is to recommand the Summer Academy\n",
    "\n",
    "### Maybe we'll have better luck with the Week 8 Final Feedback"
   ]
  },
  {
   "cell_type": "code",
   "execution_count": 14,
   "metadata": {
    "scrolled": true
   },
   "outputs": [
    {
     "data": {
      "text/html": [
       "<div>\n",
       "<style scoped>\n",
       "    .dataframe tbody tr th:only-of-type {\n",
       "        vertical-align: middle;\n",
       "    }\n",
       "\n",
       "    .dataframe tbody tr th {\n",
       "        vertical-align: top;\n",
       "    }\n",
       "\n",
       "    .dataframe thead th {\n",
       "        text-align: right;\n",
       "    }\n",
       "</style>\n",
       "<table border=\"1\" class=\"dataframe\">\n",
       "  <thead>\n",
       "    <tr style=\"text-align: right;\">\n",
       "      <th></th>\n",
       "      <th>#</th>\n",
       "      <th>How likely is it that you would recommend the Make School Summer Academy to a friend?</th>\n",
       "      <th>location</th>\n",
       "      <th>track</th>\n",
       "      <th>Start Date (UTC)</th>\n",
       "      <th>Submit Date (UTC)</th>\n",
       "      <th>Network ID</th>\n",
       "    </tr>\n",
       "  </thead>\n",
       "  <tbody>\n",
       "    <tr>\n",
       "      <th>0</th>\n",
       "      <td>00b836bda84e6bdbe780af97e249e59f</td>\n",
       "      <td>10</td>\n",
       "      <td>New York</td>\n",
       "      <td>summerApps</td>\n",
       "      <td>9/7/16 1:03</td>\n",
       "      <td>9/7/16 1:04</td>\n",
       "      <td>3212b7a834</td>\n",
       "    </tr>\n",
       "    <tr>\n",
       "      <th>1</th>\n",
       "      <td>39dde6dc0e1e375845d756fc7e39fc5f</td>\n",
       "      <td>10</td>\n",
       "      <td>San Francisco</td>\n",
       "      <td>summerIntro</td>\n",
       "      <td>9/7/16 1:03</td>\n",
       "      <td>9/7/16 1:04</td>\n",
       "      <td>f4954355aa</td>\n",
       "    </tr>\n",
       "    <tr>\n",
       "      <th>2</th>\n",
       "      <td>5e56b9de91670b308cb98dd2848b8739</td>\n",
       "      <td>10</td>\n",
       "      <td>New York</td>\n",
       "      <td>summerIntro</td>\n",
       "      <td>9/7/16 1:03</td>\n",
       "      <td>9/7/16 1:05</td>\n",
       "      <td>3d69ca289b</td>\n",
       "    </tr>\n",
       "    <tr>\n",
       "      <th>3</th>\n",
       "      <td>641081d05785b47a0f17448625da0d49</td>\n",
       "      <td>9</td>\n",
       "      <td>Sunnyvale</td>\n",
       "      <td>summerApps (4-week)</td>\n",
       "      <td>9/7/16 1:04</td>\n",
       "      <td>9/7/16 1:06</td>\n",
       "      <td>261608f95d</td>\n",
       "    </tr>\n",
       "    <tr>\n",
       "      <th>4</th>\n",
       "      <td>c29bdd4f5678d78b450f4494e0f53c8c</td>\n",
       "      <td>3</td>\n",
       "      <td>San Francisco</td>\n",
       "      <td>summerIntro</td>\n",
       "      <td>9/7/16 1:04</td>\n",
       "      <td>9/7/16 1:11</td>\n",
       "      <td>d6672ddf6f</td>\n",
       "    </tr>\n",
       "  </tbody>\n",
       "</table>\n",
       "</div>"
      ],
      "text/plain": [
       "                                  #  \\\n",
       "0  00b836bda84e6bdbe780af97e249e59f   \n",
       "1  39dde6dc0e1e375845d756fc7e39fc5f   \n",
       "2  5e56b9de91670b308cb98dd2848b8739   \n",
       "3  641081d05785b47a0f17448625da0d49   \n",
       "4  c29bdd4f5678d78b450f4494e0f53c8c   \n",
       "\n",
       "   How likely is it that you would recommend the Make School Summer Academy to a friend?  \\\n",
       "0                                                 10                                       \n",
       "1                                                 10                                       \n",
       "2                                                 10                                       \n",
       "3                                                  9                                       \n",
       "4                                                  3                                       \n",
       "\n",
       "        location                track Start Date (UTC) Submit Date (UTC)  \\\n",
       "0       New York           summerApps      9/7/16 1:03       9/7/16 1:04   \n",
       "1  San Francisco          summerIntro      9/7/16 1:03       9/7/16 1:04   \n",
       "2       New York          summerIntro      9/7/16 1:03       9/7/16 1:05   \n",
       "3      Sunnyvale  summerApps (4-week)      9/7/16 1:04       9/7/16 1:06   \n",
       "4  San Francisco          summerIntro      9/7/16 1:04       9/7/16 1:11   \n",
       "\n",
       "   Network ID  \n",
       "0  3212b7a834  \n",
       "1  f4954355aa  \n",
       "2  3d69ca289b  \n",
       "3  261608f95d  \n",
       "4  d6672ddf6f  "
      ]
     },
     "execution_count": 14,
     "metadata": {},
     "output_type": "execute_result"
    }
   ],
   "source": [
    "df_2016_week8 = pd.read_csv('Week 8 Feedback (2016, incomplete) - results.csv')\n",
    "df_2016_week8.head()"
   ]
  },
  {
   "cell_type": "markdown",
   "metadata": {},
   "source": [
    "### This looks promising! It has the exact data we're looking for! Let's check if there's anything weird about it"
   ]
  },
  {
   "cell_type": "code",
   "execution_count": 17,
   "metadata": {
    "scrolled": true
   },
   "outputs": [
    {
     "data": {
      "text/plain": [
       "array([10,  9,  3,  8,  6,  7,  4,  5])"
      ]
     },
     "execution_count": 17,
     "metadata": {},
     "output_type": "execute_result"
    }
   ],
   "source": [
    "df_2016_week8['How likely is it that you would recommend the Make School Summer Academy to a friend?'].unique()"
   ]
  },
  {
   "cell_type": "markdown",
   "metadata": {},
   "source": [
    "### Looks great! We have no weird data and the rating are already integers so we can calculate the promoter score. Let's add a new column for just that."
   ]
  },
  {
   "cell_type": "code",
   "execution_count": 19,
   "metadata": {},
   "outputs": [
    {
     "data": {
      "text/html": [
       "<div>\n",
       "<style scoped>\n",
       "    .dataframe tbody tr th:only-of-type {\n",
       "        vertical-align: middle;\n",
       "    }\n",
       "\n",
       "    .dataframe tbody tr th {\n",
       "        vertical-align: top;\n",
       "    }\n",
       "\n",
       "    .dataframe thead th {\n",
       "        text-align: right;\n",
       "    }\n",
       "</style>\n",
       "<table border=\"1\" class=\"dataframe\">\n",
       "  <thead>\n",
       "    <tr style=\"text-align: right;\">\n",
       "      <th></th>\n",
       "      <th>#</th>\n",
       "      <th>How likely is it that you would recommend the Make School Summer Academy to a friend?</th>\n",
       "      <th>location</th>\n",
       "      <th>track</th>\n",
       "      <th>Start Date (UTC)</th>\n",
       "      <th>Submit Date (UTC)</th>\n",
       "      <th>Network ID</th>\n",
       "      <th>promoter_score</th>\n",
       "    </tr>\n",
       "  </thead>\n",
       "  <tbody>\n",
       "    <tr>\n",
       "      <th>0</th>\n",
       "      <td>00b836bda84e6bdbe780af97e249e59f</td>\n",
       "      <td>10</td>\n",
       "      <td>New York</td>\n",
       "      <td>summerApps</td>\n",
       "      <td>9/7/16 1:03</td>\n",
       "      <td>9/7/16 1:04</td>\n",
       "      <td>3212b7a834</td>\n",
       "      <td>1</td>\n",
       "    </tr>\n",
       "    <tr>\n",
       "      <th>1</th>\n",
       "      <td>39dde6dc0e1e375845d756fc7e39fc5f</td>\n",
       "      <td>10</td>\n",
       "      <td>San Francisco</td>\n",
       "      <td>summerIntro</td>\n",
       "      <td>9/7/16 1:03</td>\n",
       "      <td>9/7/16 1:04</td>\n",
       "      <td>f4954355aa</td>\n",
       "      <td>1</td>\n",
       "    </tr>\n",
       "    <tr>\n",
       "      <th>2</th>\n",
       "      <td>5e56b9de91670b308cb98dd2848b8739</td>\n",
       "      <td>10</td>\n",
       "      <td>New York</td>\n",
       "      <td>summerIntro</td>\n",
       "      <td>9/7/16 1:03</td>\n",
       "      <td>9/7/16 1:05</td>\n",
       "      <td>3d69ca289b</td>\n",
       "      <td>1</td>\n",
       "    </tr>\n",
       "    <tr>\n",
       "      <th>3</th>\n",
       "      <td>641081d05785b47a0f17448625da0d49</td>\n",
       "      <td>9</td>\n",
       "      <td>Sunnyvale</td>\n",
       "      <td>summerApps (4-week)</td>\n",
       "      <td>9/7/16 1:04</td>\n",
       "      <td>9/7/16 1:06</td>\n",
       "      <td>261608f95d</td>\n",
       "      <td>1</td>\n",
       "    </tr>\n",
       "    <tr>\n",
       "      <th>4</th>\n",
       "      <td>c29bdd4f5678d78b450f4494e0f53c8c</td>\n",
       "      <td>3</td>\n",
       "      <td>San Francisco</td>\n",
       "      <td>summerIntro</td>\n",
       "      <td>9/7/16 1:04</td>\n",
       "      <td>9/7/16 1:11</td>\n",
       "      <td>d6672ddf6f</td>\n",
       "      <td>-1</td>\n",
       "    </tr>\n",
       "  </tbody>\n",
       "</table>\n",
       "</div>"
      ],
      "text/plain": [
       "                                  #  \\\n",
       "0  00b836bda84e6bdbe780af97e249e59f   \n",
       "1  39dde6dc0e1e375845d756fc7e39fc5f   \n",
       "2  5e56b9de91670b308cb98dd2848b8739   \n",
       "3  641081d05785b47a0f17448625da0d49   \n",
       "4  c29bdd4f5678d78b450f4494e0f53c8c   \n",
       "\n",
       "   How likely is it that you would recommend the Make School Summer Academy to a friend?  \\\n",
       "0                                                 10                                       \n",
       "1                                                 10                                       \n",
       "2                                                 10                                       \n",
       "3                                                  9                                       \n",
       "4                                                  3                                       \n",
       "\n",
       "        location                track Start Date (UTC) Submit Date (UTC)  \\\n",
       "0       New York           summerApps      9/7/16 1:03       9/7/16 1:04   \n",
       "1  San Francisco          summerIntro      9/7/16 1:03       9/7/16 1:04   \n",
       "2       New York          summerIntro      9/7/16 1:03       9/7/16 1:05   \n",
       "3      Sunnyvale  summerApps (4-week)      9/7/16 1:04       9/7/16 1:06   \n",
       "4  San Francisco          summerIntro      9/7/16 1:04       9/7/16 1:11   \n",
       "\n",
       "   Network ID  promoter_score  \n",
       "0  3212b7a834               1  \n",
       "1  f4954355aa               1  \n",
       "2  3d69ca289b               1  \n",
       "3  261608f95d               1  \n",
       "4  d6672ddf6f              -1  "
      ]
     },
     "execution_count": 19,
     "metadata": {},
     "output_type": "execute_result"
    }
   ],
   "source": [
    "df_2016_week8['promoter_score'] = df_2016_week8['How likely is it that you would recommend the Make School Summer Academy to a friend?'].apply(calculate_promo_score)\n",
    "df_2016_week8.head()"
   ]
  },
  {
   "cell_type": "markdown",
   "metadata": {},
   "source": [
    "### Now that we can, let's find out what the NPS was for the whole of the summer academy"
   ]
  },
  {
   "cell_type": "code",
   "execution_count": 20,
   "metadata": {},
   "outputs": [
    {
     "data": {
      "text/plain": [
       "0.02482758620689655"
      ]
     },
     "execution_count": 20,
     "metadata": {},
     "output_type": "execute_result"
    }
   ],
   "source": [
    "df_2016_week8['promoter_score'].sum() / len(df_2017_curated)"
   ]
  },
  {
   "cell_type": "markdown",
   "metadata": {},
   "source": [
    "### 0.02?! While not negative, this does not even compare to the 2017 score. I wonder which cities brought the average down. Let's visualize our data and see just that"
   ]
  },
  {
   "cell_type": "code",
   "execution_count": null,
   "metadata": {},
   "outputs": [],
   "source": []
  }
 ],
 "metadata": {
  "kernelspec": {
   "display_name": "Python 3",
   "language": "python",
   "name": "python3"
  },
  "language_info": {
   "codemirror_mode": {
    "name": "ipython",
    "version": 3
   },
   "file_extension": ".py",
   "mimetype": "text/x-python",
   "name": "python",
   "nbconvert_exporter": "python",
   "pygments_lexer": "ipython3",
   "version": "3.6.5"
  }
 },
 "nbformat": 4,
 "nbformat_minor": 2
}
